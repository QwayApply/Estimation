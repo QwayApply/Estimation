{
 "cells": [
  {
   "cell_type": "code",
   "execution_count": 1,
   "id": "ffe8e8f8-6429-4e49-94f6-a9066a98567d",
   "metadata": {},
   "outputs": [],
   "source": [
    "import numpy as np\n",
    "\n",
    "# Importing standard Qiskit libraries\n",
    "from qiskit import QuantumCircuit, transpile, Aer, IBMQ\n",
    "from qiskit.tools.jupyter import *\n",
    "from qiskit.visualization import *\n",
    "from ibm_quantum_widgets import *\n",
    "from qiskit.providers.aer import QasmSimulator\n",
    "\n",
    "# Loading your IBM Quantum account(s)\n",
    "provider = IBMQ.load_account()"
   ]
  },
  {
   "cell_type": "code",
   "execution_count": 2,
   "id": "fb8b4106-ba14-4cda-b6e6-9f6f577a78f0",
   "metadata": {},
   "outputs": [
    {
     "name": "stdout",
     "output_type": "stream",
     "text": [
      "<class 'generator'>\n",
      "<class 'numpy.ndarray'>\n"
     ]
    }
   ],
   "source": [
    "import openpyxl\n",
    "\n",
    "\n",
    "def read(fn):\n",
    "    wb = openpyxl.open(filename=fn)\n",
    "    ws = wb.active\n",
    "    lines = []\n",
    "    for row in ws.rows:\n",
    "        line = []\n",
    "        for cell in row:\n",
    "            line.append(cell.value)\n",
    "        lines.append(line)\n",
    "    return lines, ws.rows\n",
    "\n",
    "\n",
    "data, roww=read('output.xlsx')\n",
    "real_data = np.array(data)\n",
    "print(type(roww))\n",
    "print(type(real_data))"
   ]
  },
  {
   "cell_type": "code",
   "execution_count": 3,
   "id": "257cbb00-ed2d-4ecb-aafc-2e05a4b76460",
   "metadata": {},
   "outputs": [
    {
     "name": "stdout",
     "output_type": "stream",
     "text": [
      "[['계열' '학과' '점수' '합불' '정원']\n",
      " ['이과' '가톨릭약학' '706.51' '최초합' '12']\n",
      " ['이과' '가톨릭약학' '706.37' '최초합' '12']\n",
      " ...\n",
      " ['이과' '홍익대전자전기' '114.3' '불합격' '81']\n",
      " ['이과' '홍익대전자전기' '89.75' '불합격' '81']\n",
      " ['이과' '홍익대전자전기' '89.2' '불합격' '81']]\n",
      "[['계열' '점수']\n",
      " ['이과' '706.51']\n",
      " ['이과' '706.37']\n",
      " ...\n",
      " ['이과' '114.3']\n",
      " ['이과' '89.75']\n",
      " ['이과' '89.2']]\n"
     ]
    }
   ],
   "source": [
    "print(real_data)\n",
    "\n",
    "real_data=np.delete(real_data,1,axis=1)\n",
    "real_data=np.delete(real_data,2,axis=1)\n",
    "real_data=np.delete(real_data,2,axis=1)\n",
    "print(real_data)"
   ]
  },
  {
   "cell_type": "code",
   "execution_count": 16,
   "id": "d10ce624-9305-4470-bcd7-425844aa9211",
   "metadata": {},
   "outputs": [
    {
     "name": "stdout",
     "output_type": "stream",
     "text": [
      "['702.58' '702.54' '701.11' ... '89.75' '89.35' '89.15']\n",
      "['706.51' '706.37' '706.09' ... '114.3' '89.75' '89.2']\n",
      "[['계열' '점수']\n",
      " ['이과' '706.51']\n",
      " ['이과' '706.37']\n",
      " ...\n",
      " ['이과' '114.3']\n",
      " ['이과' '89.75']\n",
      " ['이과' '89.2']]\n"
     ]
    }
   ],
   "source": [
    "lit_data=np.array([])\n",
    "sci_data=np.array([])\n",
    "\n",
    "for i in range(real_data.shape[0]):\n",
    "    if real_data[i][0]==\"문과\":\n",
    "        lit_data=np.append(lit_data, real_data[i][1])\n",
    "    elif real_data[i][0]==\"이과\":\n",
    "        sci_data=np.append(sci_data, real_data[i][1])\n",
    "print(lit_data)\n",
    "print(sci_data)\n",
    "print(real_data)"
   ]
  },
  {
   "cell_type": "code",
   "execution_count": 20,
   "id": "b7e3e911-5254-4754-8d0e-aa5c11210a15",
   "metadata": {},
   "outputs": [
    {
     "name": "stdout",
     "output_type": "stream",
     "text": [
      "[702.58 702.54 701.11 ...  89.75  89.35  89.15]\n",
      "[706.51 706.37 706.09 ... 114.3   89.75  89.2 ]\n"
     ]
    },
    {
     "name": "stderr",
     "output_type": "stream",
     "text": [
      "/tmp/ipykernel_302/1257068445.py:1: FutureWarning: elementwise comparison failed; returning scalar instead, but in the future will perform elementwise comparison\n",
      "  lit_data[lit_data=='']=0.0\n",
      "/tmp/ipykernel_302/1257068445.py:2: DeprecationWarning: `np.float` is a deprecated alias for the builtin `float`. To silence this warning, use `float` by itself. Doing this will not modify any behavior and is safe. If you specifically wanted the numpy scalar type, use `np.float64` here.\n",
      "Deprecated in NumPy 1.20; for more details and guidance: https://numpy.org/devdocs/release/1.20.0-notes.html#deprecations\n",
      "  lit_data=lit_data.astype(np.float)\n",
      "/tmp/ipykernel_302/1257068445.py:4: FutureWarning: elementwise comparison failed; returning scalar instead, but in the future will perform elementwise comparison\n",
      "  sci_data[sci_data=='']=0.0\n",
      "/tmp/ipykernel_302/1257068445.py:5: DeprecationWarning: `np.float` is a deprecated alias for the builtin `float`. To silence this warning, use `float` by itself. Doing this will not modify any behavior and is safe. If you specifically wanted the numpy scalar type, use `np.float64` here.\n",
      "Deprecated in NumPy 1.20; for more details and guidance: https://numpy.org/devdocs/release/1.20.0-notes.html#deprecations\n",
      "  sci_data=sci_data.astype(np.float)\n"
     ]
    }
   ],
   "source": [
    "lit_data[lit_data=='']=0.0\n",
    "lit_data=lit_data.astype(np.float)\n",
    "print(lit_data)\n",
    "sci_data[sci_data=='']=0.0\n",
    "sci_data=sci_data.astype(np.float)\n",
    "print(sci_data)"
   ]
  },
  {
   "cell_type": "code",
   "execution_count": 23,
   "id": "282392b7-3912-4f64-b24e-f88377063b1a",
   "metadata": {},
   "outputs": [],
   "source": [
    "import numpy as np\n",
    "\n",
    "seed = 71\n",
    "np.random.seed = seed\n",
    "\n",
    "import matplotlib.pyplot as plt\n",
    "\n",
    "%matplotlib inline\n",
    "\n",
    "from qiskit import QuantumRegister, QuantumCircuit, BasicAer\n",
    "from qiskit.circuit.library import TwoLocal, UniformDistribution\n",
    "\n",
    "from qiskit.utils import QuantumInstance, algorithm_globals\n",
    "from qiskit_machine_learning.algorithms import NumPyDiscriminator, QGAN\n",
    "\n",
    "algorithm_globals.random_seed = seed"
   ]
  },
  {
   "cell_type": "code",
   "execution_count": 24,
   "id": "b9d4dce1-0a98-44c2-bc0e-6f7e119711f2",
   "metadata": {},
   "outputs": [
    {
     "name": "stderr",
     "output_type": "stream",
     "text": [
      "/opt/conda/lib/python3.8/site-packages/IPython/core/pylabtools.py:151: UserWarning: Glyph 44228 (\\N{HANGUL SYLLABLE GYE}) missing from current font.\n",
      "  fig.canvas.print_figure(bytes_io, **kw)\n",
      "/opt/conda/lib/python3.8/site-packages/IPython/core/pylabtools.py:151: UserWarning: Glyph 50676 (\\N{HANGUL SYLLABLE YEOL}) missing from current font.\n",
      "  fig.canvas.print_figure(bytes_io, **kw)\n",
      "/opt/conda/lib/python3.8/site-packages/IPython/core/pylabtools.py:151: UserWarning: Glyph 51060 (\\N{HANGUL SYLLABLE I}) missing from current font.\n",
      "  fig.canvas.print_figure(bytes_io, **kw)\n",
      "/opt/conda/lib/python3.8/site-packages/IPython/core/pylabtools.py:151: UserWarning: Glyph 44284 (\\N{HANGUL SYLLABLE GWA}) missing from current font.\n",
      "  fig.canvas.print_figure(bytes_io, **kw)\n",
      "/opt/conda/lib/python3.8/site-packages/IPython/core/pylabtools.py:151: UserWarning: Glyph 47928 (\\N{HANGUL SYLLABLE MUN}) missing from current font.\n",
      "  fig.canvas.print_figure(bytes_io, **kw)\n",
      "/opt/conda/lib/python3.8/site-packages/IPython/core/pylabtools.py:151: UserWarning: Glyph 51216 (\\N{HANGUL SYLLABLE JEOM}) missing from current font.\n",
      "  fig.canvas.print_figure(bytes_io, **kw)\n",
      "/opt/conda/lib/python3.8/site-packages/IPython/core/pylabtools.py:151: UserWarning: Glyph 49688 (\\N{HANGUL SYLLABLE SU}) missing from current font.\n",
      "  fig.canvas.print_figure(bytes_io, **kw)\n"
     ]
    },
    {
     "data": {
      "image/png": "[encoded data removed]",
      "text/plain": [
       "<Figure size 640x480 with 1 Axes>"
      ]
     },
     "metadata": {},
     "output_type": "display_data"
    }
   ],
   "source": [
    "plt.style.use('default')\n",
    "plt.hist(real_data, bins=100, density=True,histtype='stepfilled')\n",
    "plt.show()"
   ]
  },
  {
   "cell_type": "code",
   "execution_count": 61,
   "id": "63115b21-80e7-4371-93e0-3619b0dbe2aa",
   "metadata": {},
   "outputs": [
    {
     "name": "stdout",
     "output_type": "stream",
     "text": [
      "[702.58 702.54 701.11 ...  89.75  89.35  89.15]\n",
      "<class 'numpy.ndarray'>\n",
      "(24141,)\n"
     ]
    }
   ],
   "source": [
    "# Number training data samples\n",
    "N = lit_data.shape[0]\n",
    "\n",
    "# Load data samples from log-normal distribution with mean=1 and standard deviation=1\n",
    "\n",
    "# Set the data resolution\n",
    "# Set upper and lower data values as list of k min/max data values [[min_0,max_0],...,[min_k-1,max_k-1]]\n",
    "bounds = np.array([0.0, 1023.0])\n",
    "# Set number of qubits per data dimension as list of k qubit values[#q_0,...,#q_k-1]\n",
    "num_qubits = [2]\n",
    "k = len(num_qubits)\n",
    "print(lit_data)\n",
    "print(type(lit_data))\n",
    "print(lit_data.shape)"
   ]
  },
  {
   "cell_type": "code",
   "execution_count": 62,
   "id": "b42edff2-98ee-495a-8a64-421b53153d68",
   "metadata": {},
   "outputs": [],
   "source": [
    "# Set number of training epochs\n",
    "# Note: The algorithm's runtime can be shortened by reducing the number of training epochs.\n",
    "num_epochs = 10\n",
    "# Batch size\n",
    "batch_size = 100\n",
    "\n",
    "# Initialize qGAN\n",
    "qgan = QGAN(lit_data, bounds, num_qubits, batch_size, num_epochs, snapshot_dir=None)\n",
    "qgan.seed = 1\n",
    "# Set quantum instance to run the quantum generator\n",
    "quantum_instance = QuantumInstance(\n",
    "    backend=BasicAer.get_backend(\"statevector_simulator\"), seed_transpiler=seed, seed_simulator=seed\n",
    ")"
   ]
  },
  {
   "cell_type": "code",
   "execution_count": 63,
   "id": "d656a5d6-177c-4d1d-b55d-644c2067fdaa",
   "metadata": {},
   "outputs": [
    {
     "name": "stderr",
     "output_type": "stream",
     "text": [
      "/tmp/ipykernel_302/2620256871.py:6: DeprecationWarning: `UniformDistribution` is deprecated as of version 0.17.0 and will be removed no earlier than 3 months after the release date. It moved to qiskit_finance.circuit.library.UniformDistribution.\n",
      "  init_dist = UniformDistribution(sum(num_qubits))\n"
     ]
    }
   ],
   "source": [
    "# Set entangler map\n",
    "entangler_map = [[0, 1]]\n",
    "\n",
    "\n",
    "# Set an initial state for the generator circuit\n",
    "init_dist = UniformDistribution(sum(num_qubits))\n",
    "\n",
    "# Set the ansatz circuit\n",
    "ansatz = TwoLocal(int(np.sum(num_qubits)), \"ry\", \"cz\", entanglement=entangler_map, reps=1)\n",
    "\n",
    "# Set generator's initial parameters - in order to reduce the training time and hence the\n",
    "# total running time for this notebook\n",
    "init_params = [3.0, 1.0, 0.6, 1.6]\n",
    "\n",
    "# You can increase the number of training epochs and use random initial parameters.\n",
    "# init_params = np.random.rand(ansatz.num_parameters_settable) * 2 * np.pi\n",
    "\n",
    "# Set generator circuit by adding the initial distribution infront of the ansatz\n",
    "g_circuit = ansatz.compose(init_dist, front=True)\n",
    "\n",
    "# Set quantum generator\n",
    "qgan.set_generator(generator_circuit=g_circuit, generator_init_params=init_params)\n",
    "# The parameters have an order issue that following is a temp. workaround\n",
    "qgan._generator._free_parameters = sorted(g_circuit.parameters, key=lambda p: p.name)\n",
    "# Set classical discriminator neural network\n",
    "discriminator = NumPyDiscriminator(len(num_qubits))\n",
    "qgan.set_discriminator(discriminator)"
   ]
  },
  {
   "cell_type": "code",
   "execution_count": null,
   "id": "5ad40c26-6be0-4de6-860a-58af3657938a",
   "metadata": {},
   "outputs": [],
   "source": [
    "result = qgan.run(quantum_instance)"
   ]
  },
  {
   "cell_type": "code",
   "execution_count": null,
   "id": "7e7d42fd-0f43-4b17-9026-1c62d3286bc7",
   "metadata": {},
   "outputs": [],
   "source": [
    "print(\"Training results:\")\n",
    "for key, value in result.items():\n",
    "    print(f\"  {key} : {value}\")\n",
    "    \n",
    "# Plot progress w.r.t the generator's and the discriminator's loss function\n",
    "t_steps = np.arange(num_epochs)\n",
    "plt.figure(figsize=(6, 5))\n",
    "plt.title(\"Progress in the loss function\")\n",
    "plt.plot(\n",
    "    t_steps, qgan.g_loss, label=\"Generator loss function\", color=\"mediumvioletred\", linewidth=2\n",
    ")\n",
    "plt.plot(\n",
    "    t_steps, qgan.d_loss, label=\"Discriminator loss function\", color=\"rebeccapurple\", linewidth=2\n",
    ")\n",
    "plt.grid()\n",
    "plt.legend(loc=\"best\")\n",
    "plt.xlabel(\"time steps\")\n",
    "plt.ylabel(\"loss\")\n",
    "plt.show()"
   ]
  }
 ],
 "metadata": {
  "kernelspec": {
   "display_name": "Qiskit v0.34.1 (ipykernel)",
   "language": "python",
   "name": "python3"
  },
  "language_info": {
   "codemirror_mode": {
    "name": "ipython",
    "version": 3
   },
   "file_extension": ".py",
   "mimetype": "text/x-python",
   "name": "python",
   "nbconvert_exporter": "python",
   "pygments_lexer": "ipython3",
   "version": "3.8.12"
  },
  "widgets": {
   "application/vnd.jupyter.widget-state+json": {
    "state": {
     "0aac513cb03240daa196c5d5d8342803": {
      "model_module": "@jupyter-widgets/controls",
      "model_module_version": "1.5.0",
      "model_name": "ButtonModel",
      "state": {
       "button_style": "primary",
       "description": "Clear",
       "layout": "IPY_MODEL_8dcbb821d21449dfb6be802a7d8e0988",
       "style": "IPY_MODEL_e76443e921da40cead08d97cf8fff5b3"
      }
     },
     "1ec935a6a2084439b28b4767cbd5ce10": {
      "model_module": "@jupyter-widgets/controls",
      "model_module_version": "1.5.0",
      "model_name": "HBoxModel",
      "state": {
       "children": [
        "IPY_MODEL_5c0860211de2407c889ce6cd69ee1bba",
        "IPY_MODEL_74a3a35a6efa4d37ba1028b9ee2a0577",
        "IPY_MODEL_2c95f987733646e08e4cb550b8e20912",
        "IPY_MODEL_a9cc8cd9508f49c887fca58b15a91d4d",
        "IPY_MODEL_e28ad35f4e6e40e7a0c07cb22f78a9d3"
       ],
       "layout": "IPY_MODEL_acde87db4ed14e8195902f81e5b927d7"
      }
     },
     "2c95f987733646e08e4cb550b8e20912": {
      "model_module": "@jupyter-widgets/controls",
      "model_module_version": "1.5.0",
      "model_name": "HTMLModel",
      "state": {
       "layout": "IPY_MODEL_fd149a40bd794a41af11852f0d35598a",
       "style": "IPY_MODEL_8ecfcd7846ca470aba1356e945b4825a",
       "value": "<h5>Status</h5>"
      }
     },
     "44a0e5a600164b2fbaa392e4aa956f5d": {
      "model_module": "@jupyter-widgets/base",
      "model_module_version": "1.2.0",
      "model_name": "LayoutModel",
      "state": {
       "width": "145px"
      }
     },
     "531c67e43dd54d62a1de3a048580d3fa": {
      "model_module": "@jupyter-widgets/base",
      "model_module_version": "1.2.0",
      "model_name": "LayoutModel",
      "state": {}
     },
     "5c0860211de2407c889ce6cd69ee1bba": {
      "model_module": "@jupyter-widgets/controls",
      "model_module_version": "1.5.0",
      "model_name": "HTMLModel",
      "state": {
       "layout": "IPY_MODEL_e4e3e677e7fa428693bf9d18e93d0510",
       "style": "IPY_MODEL_eb4a6ac9a5624c3ba001dcaed2f0d1ea",
       "value": "<h5>Job ID</h5>"
      }
     },
     "63bad937e74e4c1d8278c231a94087d6": {
      "model_module": "@jupyter-widgets/controls",
      "model_module_version": "1.5.0",
      "model_name": "DescriptionStyleModel",
      "state": {
       "description_width": ""
      }
     },
     "64fd529a1d064e28b1914f70236ea322": {
      "model_module": "@jupyter-widgets/controls",
      "model_module_version": "1.5.0",
      "model_name": "HTMLModel",
      "state": {
       "layout": "IPY_MODEL_a6fcefa5ab854fbc9a410abc8d2c2032",
       "style": "IPY_MODEL_d9fd0ea4926444e490d58f7ce145aaa6",
       "value": "<p style='font-family: IBM Plex Sans, Arial, Helvetica, sans-serif; font-size: 20px; font-weight: medium;'>Circuit Properties</p>"
      }
     },
     "6de69cbe06ae4524b479eaec6f84673a": {
      "model_module": "@jupyter-widgets/controls",
      "model_module_version": "1.5.0",
      "model_name": "DescriptionStyleModel",
      "state": {
       "description_width": ""
      }
     },
     "74a3a35a6efa4d37ba1028b9ee2a0577": {
      "model_module": "@jupyter-widgets/controls",
      "model_module_version": "1.5.0",
      "model_name": "HTMLModel",
      "state": {
       "layout": "IPY_MODEL_44a0e5a600164b2fbaa392e4aa956f5d",
       "style": "IPY_MODEL_6de69cbe06ae4524b479eaec6f84673a",
       "value": "<h5>Backend</h5>"
      }
     },
     "79ec95ba763f472fa852f8fcf95051fe": {
      "model_module": "@jupyter-widgets/controls",
      "model_module_version": "1.5.0",
      "model_name": "DescriptionStyleModel",
      "state": {
       "description_width": ""
      }
     },
     "8dcbb821d21449dfb6be802a7d8e0988": {
      "model_module": "@jupyter-widgets/base",
      "model_module_version": "1.2.0",
      "model_name": "LayoutModel",
      "state": {
       "grid_area": "right",
       "padding": "0px 0px 0px 0px",
       "width": "70px"
      }
     },
     "8ecfcd7846ca470aba1356e945b4825a": {
      "model_module": "@jupyter-widgets/controls",
      "model_module_version": "1.5.0",
      "model_name": "DescriptionStyleModel",
      "state": {
       "description_width": ""
      }
     },
     "a6fcefa5ab854fbc9a410abc8d2c2032": {
      "model_module": "@jupyter-widgets/base",
      "model_module_version": "1.2.0",
      "model_name": "LayoutModel",
      "state": {
       "margin": "0px 0px 10px 0px"
      }
     },
     "a82723f476d543baa33de33d3ac65b55": {
      "model_module": "@jupyter-widgets/base",
      "model_module_version": "1.2.0",
      "model_name": "LayoutModel",
      "state": {
       "grid_template_areas": "\n                                       \". . . . right \"\n                                        ",
       "grid_template_columns": "20% 20% 20% 20% 20%",
       "width": "100%"
      }
     },
     "a9cc8cd9508f49c887fca58b15a91d4d": {
      "model_module": "@jupyter-widgets/controls",
      "model_module_version": "1.5.0",
      "model_name": "HTMLModel",
      "state": {
       "layout": "IPY_MODEL_e046b46629a94295b350082237c1ac69",
       "style": "IPY_MODEL_79ec95ba763f472fa852f8fcf95051fe",
       "value": "<h5>Queue</h5>"
      }
     },
     "acde87db4ed14e8195902f81e5b927d7": {
      "model_module": "@jupyter-widgets/base",
      "model_module_version": "1.2.0",
      "model_name": "LayoutModel",
      "state": {
       "margin": "0px 0px 0px 37px",
       "width": "600px"
      }
     },
     "b3d23f6167fe4ff59f2298cd2cb7ae4d": {
      "model_module": "@jupyter-widgets/controls",
      "model_module_version": "1.5.0",
      "model_name": "GridBoxModel",
      "state": {
       "children": [
        "IPY_MODEL_0aac513cb03240daa196c5d5d8342803"
       ],
       "layout": "IPY_MODEL_a82723f476d543baa33de33d3ac65b55"
      }
     },
     "d9fd0ea4926444e490d58f7ce145aaa6": {
      "model_module": "@jupyter-widgets/controls",
      "model_module_version": "1.5.0",
      "model_name": "DescriptionStyleModel",
      "state": {
       "description_width": ""
      }
     },
     "e046b46629a94295b350082237c1ac69": {
      "model_module": "@jupyter-widgets/base",
      "model_module_version": "1.2.0",
      "model_name": "LayoutModel",
      "state": {
       "width": "70px"
      }
     },
     "e28ad35f4e6e40e7a0c07cb22f78a9d3": {
      "model_module": "@jupyter-widgets/controls",
      "model_module_version": "1.5.0",
      "model_name": "HTMLModel",
      "state": {
       "layout": "IPY_MODEL_531c67e43dd54d62a1de3a048580d3fa",
       "style": "IPY_MODEL_63bad937e74e4c1d8278c231a94087d6",
       "value": "<h5>Message</h5>"
      }
     },
     "e4e3e677e7fa428693bf9d18e93d0510": {
      "model_module": "@jupyter-widgets/base",
      "model_module_version": "1.2.0",
      "model_name": "LayoutModel",
      "state": {
       "width": "190px"
      }
     },
     "e76443e921da40cead08d97cf8fff5b3": {
      "model_module": "@jupyter-widgets/controls",
      "model_module_version": "1.5.0",
      "model_name": "ButtonStyleModel",
      "state": {}
     },
     "eb4a6ac9a5624c3ba001dcaed2f0d1ea": {
      "model_module": "@jupyter-widgets/controls",
      "model_module_version": "1.5.0",
      "model_name": "DescriptionStyleModel",
      "state": {
       "description_width": ""
      }
     },
     "fd149a40bd794a41af11852f0d35598a": {
      "model_module": "@jupyter-widgets/base",
      "model_module_version": "1.2.0",
      "model_name": "LayoutModel",
      "state": {
       "width": "95px"
      }
     }
    },
    "version_major": 2,
    "version_minor": 0
   }
  }
 },
 "nbformat": 4,
 "nbformat_minor": 5
}
